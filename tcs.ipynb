{
  "nbformat": 4,
  "nbformat_minor": 0,
  "metadata": {
    "colab": {
      "provenance": [],
      "authorship_tag": "ABX9TyN5ZWaha7LTsjZxani3BETe",
      "include_colab_link": true
    },
    "kernelspec": {
      "name": "python3",
      "display_name": "Python 3"
    },
    "language_info": {
      "name": "python"
    }
  },
  "cells": [
    {
      "cell_type": "markdown",
      "metadata": {
        "id": "view-in-github",
        "colab_type": "text"
      },
      "source": [
        "<a href=\"https://colab.research.google.com/github/asifhossain-git/html-portfolio/blob/main/tcs.ipynb\" target=\"_parent\"><img src=\"https://colab.research.google.com/assets/colab-badge.svg\" alt=\"Open In Colab\"/></a>"
      ]
    },
    {
      "cell_type": "markdown",
      "source": [
        "Problems on Arrays\n"
      ],
      "metadata": {
        "id": "KSKmhAlB8vdj"
      }
    },
    {
      "cell_type": "markdown",
      "source": [
        "Find the smallest element in an array"
      ],
      "metadata": {
        "id": "wQIsDoKh_O46"
      }
    },
    {
      "cell_type": "code",
      "execution_count": 13,
      "metadata": {
        "colab": {
          "base_uri": "https://localhost:8080/"
        },
        "id": "BVivb-_u7xPY",
        "outputId": "d7eea60f-9601-44a6-a7c2-5010a36ac639"
      },
      "outputs": [
        {
          "output_type": "stream",
          "name": "stdout",
          "text": [
            "Enter the elements of the array separated by space: 2 3 4 0\n",
            "The NumPy array is: [2 3 4 0]\n",
            "The smallest element in the array is: 0\n"
          ]
        }
      ],
      "source": [
        "import numpy as np\n",
        "\n",
        "# Take input from the user\n",
        "user_input = input(\"Enter the elements of the array separated by space: \")\n",
        "\n",
        "# Convert the input string to a list of integers and then create a NumPy array\n",
        "arr = np.array(list(map(int, user_input.split())))\n",
        "\n",
        "# Output the NumPy array\n",
        "print(\"The array is:\", arr)\n",
        "\n",
        "# Find and print the smallest element in the array\n",
        "smallest_element = np.min(arr)\n",
        "print(f\"The smallest element in the array is: {smallest_element}\")\n"
      ]
    },
    {
      "cell_type": "code",
      "source": [
        "import numpy as np\n",
        "arr1=np.array([2,3,6,1])\n",
        "def find_smallest(arr1):\n",
        "  return min(arr1)\n",
        "small_element=find_smallest(arr1)\n",
        "print(f\"smallest element :{small_element}\")"
      ],
      "metadata": {
        "colab": {
          "base_uri": "https://localhost:8080/"
        },
        "id": "jCPlpmOh_zOj",
        "outputId": "704e636d-e98c-4eb6-a715-c20ee1a174ef"
      },
      "execution_count": 12,
      "outputs": [
        {
          "output_type": "stream",
          "name": "stdout",
          "text": [
            "smallest element :1\n"
          ]
        }
      ]
    }
  ]
}